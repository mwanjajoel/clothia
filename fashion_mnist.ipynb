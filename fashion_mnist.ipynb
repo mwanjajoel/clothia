{
 "cells": [
  {
   "cell_type": "code",
   "execution_count": 10,
   "id": "ac92dd54-f8a9-40da-8f4c-8a1b34187ae9",
   "metadata": {},
   "outputs": [],
   "source": [
    "import tensorflow as tf"
   ]
  },
  {
   "cell_type": "code",
   "execution_count": 11,
   "id": "87574de8-dceb-4aba-98bc-a3414464a52e",
   "metadata": {},
   "outputs": [],
   "source": [
    "# Import TensorFlow Datasets\n",
    "import tensorflow_datasets as tfds\n",
    "tfds.disable_progress_bar()"
   ]
  },
  {
   "cell_type": "code",
   "execution_count": 12,
   "id": "2c7ab5f3-6330-4f6e-a371-f935ffb94fc7",
   "metadata": {},
   "outputs": [],
   "source": [
    "# Helper libraries\n",
    "import math\n",
    "import numpy as np\n",
    "import matplotlib.pyplot as plt"
   ]
  },
  {
   "cell_type": "code",
   "execution_count": 13,
   "id": "b39c15e9-f9be-4a3e-aa42-b8c7e26e2149",
   "metadata": {},
   "outputs": [],
   "source": [
    "# the wonderful logging\n",
    "import logging\n",
    "logger = tf.get_logger()\n",
    "logger.setLevel(logging.ERROR)"
   ]
  },
  {
   "cell_type": "code",
   "execution_count": null,
   "id": "ecec6b39-c5db-44cf-93aa-26181c60d3d0",
   "metadata": {},
   "outputs": [],
   "source": []
  }
 ],
 "metadata": {
  "kernelspec": {
   "display_name": "Python 3",
   "language": "python",
   "name": "python3"
  },
  "language_info": {
   "codemirror_mode": {
    "name": "ipython",
    "version": 3
   },
   "file_extension": ".py",
   "mimetype": "text/x-python",
   "name": "python",
   "nbconvert_exporter": "python",
   "pygments_lexer": "ipython3",
   "version": "3.6.13"
  }
 },
 "nbformat": 4,
 "nbformat_minor": 5
}
